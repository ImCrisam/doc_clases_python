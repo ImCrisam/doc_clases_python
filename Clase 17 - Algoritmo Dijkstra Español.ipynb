{
 "cells": [
  {
   "cell_type": "markdown",
   "metadata": {},
   "source": [
    "## Descripción del algoritmo de Dijkstra"
   ]
  },
  {
   "cell_type": "code",
   "execution_count": 1,
   "metadata": {},
   "outputs": [],
   "source": [
    "# Algoritmo Dijkstra(noVisitados, distancias, vecinos, nodoInicial):\n",
    "    \n",
    "    # Coloque 0 en la distancia conocida para el nodo inicial, infinito para todos los demás\n",
    "    # Inicie todos los predecesores como desconocidos (none)\n",
    "    \n",
    "    # Repita hasta que no queden nodos no visitados:\n",
    "\n",
    "        # Seleccione el nodo no visitado con la distnacia mínima conocida\n",
    "        # Para el nodo seleccionado, calcule la distancia hacia todos sus vecinos no visitados\n",
    "        # Actualize la información de los predecesores y las distancias conocidas, si la distancia calculada es mejor que la conocida\n",
    "        # Elimine el nodo seleccionado de la lista de los no visitados\n",
    "\n",
    "    # Retorne las mejores distancias conocidas (encontradas) y los correspondientes predecesores"
   ]
  },
  {
   "cell_type": "markdown",
   "metadata": {},
   "source": [
    "## Video: https://www.youtube.com/watch?v=pVfj6mxhdMw)"
   ]
  },
  {
   "cell_type": "markdown",
   "metadata": {},
   "source": [
    "## Versión sintáctica (comprensión).\n",
    "\n",
    "Nota: Agregué una linea para facilitar el entendimiento (crear una lista auxiliar con los vecinos no visitados del nodo seleccionado). \n",
    "\n",
    "Adicionalmente, así como en el español no se escribe todo en una sola linea sino que se utilizan renglones y párrafos, dividí las sentencias de asignación para que fueran más legibles. El símbolo \\ nos permite continuar con el código en una nueva línea (equivalente a dejar un renglón).\n",
    "\n",
    "-Julián."
   ]
  },
  {
   "cell_type": "code",
   "execution_count": 2,
   "metadata": {},
   "outputs": [],
   "source": [
    "# Algoritmo Dijkstra(noVisitados, distancias, vecinos, nodoInicial):\n",
    "def dijkstra_corto(noVisitados: set, distancia: dict, vecinos: dict, inicial: str ):\n",
    "    \n",
    "    # Coloque 0 en la distancia conocida para el nodo inicial, infinito para todos los demás.\n",
    "    distanciaConocida = { nodo : 0 if nodo == inicial else float('inf') for nodo in noVisitados }\n",
    "    \n",
    "    # Inicie todos los predecesores como desconocidos (none)\n",
    "    predecesor = { nodo : None for nodo in noVisitados }\n",
    "    \n",
    "    # Repita hasta que no queden nodos no visitados:\n",
    "    while len(noVisitados) > 0:\n",
    "\n",
    "        # Seleccione el nodo no visitado con la distnacia mínima conocida\n",
    "        menorDistancia, seleccionado = min( [ (distanciaConocida[nodo], nodo) for nodo in noVisitados ] ) \n",
    "        \n",
    "        # Crear una lista auxiliar con los vecinos no visitados del nodo seleccionado. \n",
    "        vecinosNoVisitados = [vecino for vecino in vecinos[seleccionado] if vecino in noVisitados]\n",
    "        \n",
    "        # Para el nodo seleccionado, calcule la distancia hacia todos sus vecinos no visitados\n",
    "        distanciaCalculada = { vecino : menorDistancia + distancia[seleccionado, vecino] for vecino in vecinosNoVisitados }\n",
    "        \n",
    "        # Actualize la información de los predecesores si la distancia calculada es mejor que la conocida.\n",
    "        predecesor.update( { vecino : seleccionado \\\n",
    "                            for vecino in vecinosNoVisitados if distanciaCalculada[vecino] < distanciaConocida[vecino] } )\n",
    "        \n",
    "         # Actualize la información de los predecesores si la distancia calculada es mejor que la conocida.\n",
    "        distanciaConocida.update ( { vecino : distanciaCalculada[vecino] \\\n",
    "                            for vecino in vecinosNoVisitados if distanciaCalculada[vecino] < distanciaConocida[vecino] } )\n",
    "        \n",
    "        # Elimine el nodo seleccionado de la lista de los no visitados\n",
    "        noVisitados.remove(seleccionado)\n",
    "    \n",
    "    # Retorne las mejores distancias conocidas (encontradas) y los correspondientes predecesores\n",
    "    return distanciaConocida, predecesor"
   ]
  },
  {
   "cell_type": "markdown",
   "metadata": {},
   "source": [
    "## Versión programática clásica"
   ]
  },
  {
   "cell_type": "code",
   "execution_count": 3,
   "metadata": {},
   "outputs": [],
   "source": [
    "# Algoritmo Dijkstra(noVisitados, distancias, vecinos, nodoInicial):\n",
    "def dijkstra_largo(noVisitados: set, distancia: dict, vecinos: dict, inicial: str ):\n",
    "    \n",
    "    # Coloque 0 en la distancia conocida para el nodo inicial, infinito para todos los demás.\n",
    "    distanciaConocida = {}\n",
    "    for nodo in noVisitados:\n",
    "        if nodo == inicial:\n",
    "            distanciaConocida[nodo] = 0\n",
    "        else:\n",
    "            distanciaConocida[nodo] = float('inf')\n",
    "    \n",
    "    # Inicie todos los predecesores como desconocidos (none)\n",
    "    predecesor = {}\n",
    "    for nodo in noVisitados:\n",
    "        predecesor[nodo] = None\n",
    "\n",
    "    # Repita hasta que no queden nodos no visitados:\n",
    "    while len(noVisitados) > 0:\n",
    "\n",
    "        # Seleccione el nodo no visitado con la distnacia mínima conocida\n",
    "        menorDistancia = float('inf')\n",
    "        seleccionado = None\n",
    "        for nodo in noVisitados:\n",
    "            if distanciaConocida[nodo] < menorDistancia:\n",
    "                menorDistancia = distanciaConocida[nodo]\n",
    "                seleccionado = nodo\n",
    "        \n",
    "        # Crear una lista auxiliar con los vecinos no visitados del nodo seleccionado. \n",
    "        vecinosNoVisitados = []\n",
    "        for vecino in vecinos[seleccionado]:\n",
    "            if vecino in noVisitados:\n",
    "                vecinosNoVisitados.append(vecino)\n",
    "        \n",
    "        # Para el nodo seleccionado, calcule la distancia hacia todos sus vecinos no visitados\n",
    "        distanciaCalculada = { }\n",
    "        for vecino in vecinosNoVisitados:\n",
    "            distanciaCalculada[vecino] = menorDistancia + distancia[seleccionado, vecino]\n",
    "        \n",
    "        # Actualize la información de los predecesores si la distancia calculada es mejor que la conocida.\n",
    "        diccionario_actualizacion = {}\n",
    "        for vecino in vecinosNoVisitados:\n",
    "            if distanciaCalculada[vecino] < distanciaConocida[vecino]:\n",
    "                diccionario_actualizacion[vecino] = seleccionado\n",
    "                \n",
    "        predecesor.update( diccionario_actualizacion )\n",
    "        \n",
    "         # Actualize la información de los predecesores si la distancia calculada es mejor que la conocida.\n",
    "        diccionario_actualizacion = {}\n",
    "        for vecino in vecinosNoVisitados:\n",
    "            if distanciaCalculada[vecino] < distanciaConocida[vecino]:\n",
    "                diccionario_actualizacion[vecino] = distanciaCalculada[vecino]\n",
    "        \n",
    "        distanciaConocida.update( diccionario_actualizacion )\n",
    "        \n",
    "        # Elimine el nodo seleccionado de la lista de los no visitados\n",
    "        noVisitados.remove(seleccionado)\n",
    "    \n",
    "    # Retorne las mejores distancias conocidas (encontradas) y los correspondientes predecesores\n",
    "    return distanciaConocida, predecesor"
   ]
  },
  {
   "cell_type": "markdown",
   "metadata": {},
   "source": [
    "## Pruebas"
   ]
  },
  {
   "cell_type": "code",
   "execution_count": 9,
   "metadata": {},
   "outputs": [
    {
     "name": "stdout",
     "output_type": "stream",
     "text": [
      "Versión sintáctica: \n",
      "\n",
      "Distancias minimas: \n",
      " [('A', 0), ('B', 3), ('C', 7), ('D', 1), ('E', 2)] \n",
      "Predecesores: \n",
      " [('A', None), ('B', 'D'), ('C', 'E'), ('D', 'A'), ('E', 'D')] \n",
      "\n"
     ]
    }
   ],
   "source": [
    "# Con la versión sintáctica:\n",
    "\n",
    "noVisitados = {'A', 'B', 'C', 'D', 'E'}\n",
    "\n",
    "distancia = {('A', 'B'): 6, ('A', 'D'): 1, ('B', 'C'): 5, ('B', 'D'): 2, ('B', 'E'):2, ('D', 'E'): 1, ('E','C'): 5,\n",
    "             ('B', 'A'): 6, ('D', 'A'): 1, ('C', 'B'): 5, ('D', 'B'): 2, ('E', 'B'):2, ('E', 'D'): 1, ('C','E'): 5}\n",
    "\n",
    "vecinos = { 'A': ['B', 'D'],\n",
    "            'B': ['A', 'D', 'E', 'C'],\n",
    "            'C': ['B', 'E'],\n",
    "            'D': ['A', 'B', 'E'],\n",
    "            'E': ['D', 'B', 'C'] }\n",
    "\n",
    "print('Versión sintáctica: \\n')\n",
    "\n",
    "minimas, predecesores = dijkstra_corto(noVisitados, distancia, vecinos, 'A')\n",
    "minimas, predecesores = sorted(minimas.items()), sorted(predecesores.items())\n",
    "print('Distancias minimas: \\n {} \\nPredecesores: \\n {} \\n'.format(minimas, predecesores))\n",
    "\n",
    "\n"
   ]
  },
  {
   "cell_type": "code",
   "execution_count": 8,
   "metadata": {},
   "outputs": [
    {
     "name": "stdout",
     "output_type": "stream",
     "text": [
      "Versión programática: \n",
      "\n",
      "Distancias minimas: \n",
      " [('A', 0), ('B', 3), ('C', 7), ('D', 1), ('E', 2)] \n",
      "Predecesores: \n",
      " [('A', None), ('B', 'D'), ('C', 'E'), ('D', 'A'), ('E', 'D')] \n",
      "\n"
     ]
    }
   ],
   "source": [
    "# Con la versión larga\n",
    "\n",
    "noVisitados = {'A', 'B', 'C', 'D', 'E'}\n",
    "\n",
    "distancia = {('A', 'B'): 6, ('A', 'D'): 1, ('B', 'C'): 5, ('B', 'D'): 2, ('B', 'E'):2, ('D', 'E'): 1, ('E','C'): 5,\n",
    "             ('B', 'A'): 6, ('D', 'A'): 1, ('C', 'B'): 5, ('D', 'B'): 2, ('E', 'B'):2, ('E', 'D'): 1, ('C','E'): 5}\n",
    "\n",
    "vecinos = { 'A': ['B', 'D'],\n",
    "            'B': ['A', 'D', 'E', 'C'],\n",
    "            'C': ['B', 'E'],\n",
    "            'D': ['A', 'B', 'E'],\n",
    "            'E': ['D', 'B', 'C'] }\n",
    "\n",
    "print('Versión programática: \\n')\n",
    "\n",
    "minimas, predecesores = dijkstra_largo(noVisitados, distancia, vecinos, 'A')\n",
    "minimas, predecesores = sorted(minimas.items()), sorted(predecesores.items())\n",
    "print('Distancias minimas: \\n {} \\nPredecesores: \\n {} \\n'.format(minimas, predecesores))"
   ]
  },
  {
   "cell_type": "markdown",
   "metadata": {},
   "source": [
    "## "
   ]
  }
 ],
 "metadata": {
  "kernelspec": {
   "display_name": "Python 2",
   "language": "python",
   "name": "python2"
  },
  "language_info": {
   "codemirror_mode": {
    "name": "ipython",
    "version": 2
   },
   "file_extension": ".py",
   "mimetype": "text/x-python",
   "name": "python",
   "nbconvert_exporter": "python",
   "pygments_lexer": "ipython2",
   "version": "2.7.15"
  }
 },
 "nbformat": 4,
 "nbformat_minor": 4
}
