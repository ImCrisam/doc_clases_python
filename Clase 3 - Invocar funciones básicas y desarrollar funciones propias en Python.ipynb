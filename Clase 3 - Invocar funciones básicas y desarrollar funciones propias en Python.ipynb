{
 "cells": [
  {
   "cell_type": "markdown",
   "metadata": {},
   "source": [
    "# Funciones\n",
    "\n",
    "Una función es un bloque de código con un nombre asociado, que recibe cero o más argumentos como entrada, sigue una secuencia de sentencias, la cuales ejecuta una operación deseada y devuelve un valor y/o realiza una tarea, este bloque puede ser llamados cuando se necesite.\n",
    "\n",
    "El uso de funciones es un componente muy importante del paradigma de la programación llamada estructurada, y tiene varias ventajas:\n",
    "\n",
    "- **Modularización**: permite segmentar un programa complejo en una serie de partes o módulos más simples, facilitando así la programación y el depurado.\n",
    "\n",
    "- **Reutilización**: permite reutilizar una misma función en distintos programas.\n",
    "\n",
    "Python dispone de una serie de funciones integradas al lenguaje, y también permite crear funciones definidas por el usuario para ser usadas en su propios programas."
   ]
  },
  {
   "cell_type": "markdown",
   "metadata": {},
   "source": [
    "# Llamado de funciones\n",
    "\n",
    "En el contexto de la programación, una función es una secuencia de declaraciones con nombre que realiza un cálculo. Cuando se define una función, se especifica el nombre y la secuencia de declaraciones. Más tarde, puede \"llamar\" la función por su nombre. Ya hemos visto un ejemplo de llamada de una función:"
   ]
  },
  {
   "cell_type": "code",
   "execution_count": null,
   "metadata": {},
   "outputs": [],
   "source": [
    "print(\"HOLA MUNDO\")"
   ]
  },
  {
   "cell_type": "markdown",
   "metadata": {},
   "source": [
    "El nombre de la función es **\"print\"**. La expresión entre paréntesis se llama el argumento de la función. El argumento es un valor o variable que pasamos a la función como entrada de la función. El resultado, para la función print, es la impresión en pantalla de la cadena de caracteres que tiene el argumento.\n",
    "\n",
    "Es común decir que una función \"toma\" un argumento y \"devuelve\" un resultado. El resultado se llama el *valor de retorno*. "
   ]
  },
  {
   "cell_type": "markdown",
   "metadata": {},
   "source": [
    "# Funciones propias de Python"
   ]
  },
  {
   "cell_type": "markdown",
   "metadata": {},
   "source": [
    "Python proporciona una serie de importantes funciones incorporadas que podemos utilizar sin necesidad de proporcionar la definición de la función. Los creadores de Python escribieron un conjunto de funciones para resolver problemas comunes y las incluyeron en Python para que las usáramos. \n",
    "\n",
    "Acontinuación veremos unos ejemplos:"
   ]
  },
  {
   "cell_type": "markdown",
   "metadata": {},
   "source": [
    "### Max y Min\n",
    "Las funciones max y min nos dan los valores más grandes y más pequeños de un arreglo, respectivamente. Este arreglo puede ser una lista, un vecto e incluso un conjunto de variables:"
   ]
  },
  {
   "cell_type": "code",
   "execution_count": 3,
   "metadata": {},
   "outputs": [
    {
     "name": "stdout",
     "output_type": "stream",
     "text": [
      "500\n",
      "10\n"
     ]
    }
   ],
   "source": [
    "var1 = 10\n",
    "var2 = 30\n",
    "var3 = 120 \n",
    "var4 = 500\n",
    "\n",
    "maximo = max(var1, var2, var3, var4)\n",
    "print(maximo)\n",
    "\n",
    "minimo = min(var1, var2, var3, var4)\n",
    "print(minimo)"
   ]
  },
  {
   "cell_type": "markdown",
   "metadata": {},
   "source": [
    "# Help\n",
    " La funcion **Help** llama al sistema de ayuda integrado de Python."
   ]
  },
  {
   "cell_type": "code",
   "execution_count": null,
   "metadata": {},
   "outputs": [],
   "source": [
    "help(print)"
   ]
  },
  {
   "cell_type": "code",
   "execution_count": null,
   "metadata": {},
   "outputs": [],
   "source": [
    "help(max)"
   ]
  },
  {
   "cell_type": "code",
   "execution_count": null,
   "metadata": {},
   "outputs": [],
   "source": [
    "help(min)"
   ]
  },
  {
   "cell_type": "code",
   "execution_count": null,
   "metadata": {},
   "outputs": [],
   "source": [
    "help(type)"
   ]
  },
  {
   "cell_type": "markdown",
   "metadata": {},
   "source": [
    "# Otras funciones"
   ]
  },
  {
   "cell_type": "code",
   "execution_count": null,
   "metadata": {},
   "outputs": [],
   "source": [
    "var1 = 10\n",
    "var2 = 30\n",
    "var3 = 120 \n",
    "var4 = 500\n",
    "\n",
    "sum(var1, var2, var3, var4)"
   ]
  },
  {
   "cell_type": "code",
   "execution_count": null,
   "metadata": {},
   "outputs": [],
   "source": [
    "x = range(5) #DEVUELVE LOS NUMERO DEL 0 AL 4 \n",
    "print(x)"
   ]
  },
  {
   "cell_type": "code",
   "execution_count": null,
   "metadata": {},
   "outputs": [],
   "source": [
    "x = range(0,5) \n",
    "print(x)\n",
    "\n",
    "len(x) #Esto tendria un tamaño de 4 numeros {0, 1, 2, 3, 4}"
   ]
  },
  {
   "cell_type": "markdown",
   "metadata": {},
   "source": [
    "# Haciendo nuestras propias funciones"
   ]
  },
  {
   "cell_type": "markdown",
   "metadata": {},
   "source": [
    "Hasta ahora, sólo hemos usado las funciones que vienen con Python, pero también es posible añadir y crear nuevas funciones. \n",
    "Una definición de función especifica el nombre de una nueva función y la secuencia de declaraciones que se ejecutan cuando se llama la función. Una vez que definimos una función, podemos reutilizar la función una y otra vez a lo largo de nuestro programa.\n",
    "\n",
    "<img src=https://j2logo.com/wp-content/uploads/esquema-funciones-python.png>\n",
    "\n",
    "\n",
    "De la siguiente forma"
   ]
  },
  {
   "cell_type": "code",
   "execution_count": null,
   "metadata": {},
   "outputs": [],
   "source": [
    "#Crear una función:\n",
    "def func(parámetro, parámetro):\n",
    "    #código de la función <-- Identación\n",
    "    return\n",
    "\n",
    "#Llamar la función:\n",
    "func(argumento, argumento)\n",
    "\n",
    "#Almacenar el retorno de la función (si tiene uno):\n",
    "variable = func(argumento, argumento)"
   ]
  },
  {
   "cell_type": "markdown",
   "metadata": {},
   "source": [
    "Al incluir un **“return”** le estamos diciendo a python que retorne inmediatamente el valor de resultado de la función y use la siguiente expresión como un valor de retorno”"
   ]
  },
  {
   "cell_type": "markdown",
   "metadata": {},
   "source": [
    "# Sentencia def\n",
    "\n",
    "La sentencia def es una definición de función usada para crear objetos funciones definidas por el usuario.\n",
    "\n",
    "Una definición de función es una sentencia ejecutable. Su ejecución enlaza el nombre de la función en el namespace local actual a un objecto función (un envoltorio alrededor del código ejecutable para la función). Este objeto función contiene una referencia al namespace local global como el namespace global para ser usado cuando la función es llamada.\n",
    "\n",
    "La definición de función no ejecuta el cuerpo de la función; esto es ejecutado solamente cuando la función es llamada.\n",
    "\n",
    "La sintaxis para una definición de función en Python es:"
   ]
  },
  {
   "cell_type": "code",
   "execution_count": null,
   "metadata": {},
   "outputs": [],
   "source": [
    "def NOMBRE(LISTA_DE_PARAMETROS):\n",
    "    \"\"\"DOCSTRING_DE_FUNCION\"\"\"\n",
    "    SENTENCIAS\n",
    "    RETURN [EXPRESION]"
   ]
  },
  {
   "cell_type": "markdown",
   "metadata": {},
   "source": [
    "A continuación se detallan el significado de pseudo código fuente anterior:\n",
    "\n",
    "- **NOMBRE**, es el nombre de la función.\n",
    "- **LISTA_DE_PARAMETROS**, es la lista de parámetros que puede recibir una función.\n",
    "- **DOCSTRING_DE_FUNCION**, es la cadena de caracteres usada para documentar la función.\n",
    "- **SENTENCIAS**, es el bloque de sentencias en código fuente Python que realizar cierta operación dada.\n",
    "- **RETURN**, es la sentencia return en código Python.\n",
    "- **EXPRESION**, es la expresión o variable que devuelve la sentencia return."
   ]
  },
  {
   "cell_type": "markdown",
   "metadata": {},
   "source": [
    "Vamos a crear nuestra primera función"
   ]
  },
  {
   "cell_type": "code",
   "execution_count": 20,
   "metadata": {},
   "outputs": [],
   "source": [
    "def imprime_Cosas():\n",
    "    print(\"La clase esta genial\")   #Se debe explicar de la indentacion de python y de como se ejecutan las instrucciones\n",
    "    print('Python es lo maximo')"
   ]
  },
  {
   "cell_type": "code",
   "execution_count": 21,
   "metadata": {},
   "outputs": [
    {
     "name": "stdout",
     "output_type": "stream",
     "text": [
      "La clase esta genial\n",
      "Python es lo maximo\n"
     ]
    }
   ],
   "source": [
    "imprime_Cosas()"
   ]
  },
  {
   "cell_type": "markdown",
   "metadata": {},
   "source": [
    "**def** es una palabra clave que indica que se trata de una definición de función. \n",
    "\n",
    "El nombre de la función es **imprime_Cosas**. Las reglas para los nombres de las funciones son las mismas que para los nombres de las variables: las letras, los números y algunos signos de puntuación son permitidos, pero el primer carácter no puede ser un número. No se puede utilizar una palabra clave como nombre de una función, y se debe evitar tener una variable y una función con el mismo nombre.\n"
   ]
  },
  {
   "cell_type": "markdown",
   "metadata": {},
   "source": [
    "Los paréntesis vacíos después del nombre indican que esta función no tiene argumentos. Más adelante construiremos funciones que toman argumentos como sus entradas. La primera línea de la definición de la función se llama **cabecera**; el resto se llama **cuerpo**. \n",
    "\n",
    "La cabecera tiene que terminar con dos puntos y el cuerpo tiene que estar con sangria. Por convención, la sangría es siempre de cuatro espacios (optimir la tecla **tab**). El cuerpo puede contener cualquier número de declaraciones."
   ]
  },
  {
   "cell_type": "markdown",
   "metadata": {},
   "source": [
    "Una vez que se ha definido una función, se puede utilizar dentro de otra función. Por ejemplo, para repetir el estribillo anterior, podríamos escribir una función llamada repetir_funciones: "
   ]
  },
  {
   "cell_type": "code",
   "execution_count": null,
   "metadata": {},
   "outputs": [],
   "source": [
    "def repetir_funciones():\n",
    "    imprime_Cosas()\n",
    "    imprime_Cosas()"
   ]
  },
  {
   "cell_type": "code",
   "execution_count": null,
   "metadata": {},
   "outputs": [],
   "source": [
    "repetir_funciones()"
   ]
  },
  {
   "cell_type": "markdown",
   "metadata": {},
   "source": [
    "# Definiciones y uso\n",
    "\n",
    "Reuniendo los fragmentos de código de la sección anterior, todo el programa se ve así:"
   ]
  },
  {
   "cell_type": "code",
   "execution_count": null,
   "metadata": {},
   "outputs": [],
   "source": [
    "def imprime_Cosas():\n",
    "    print(\"La clase esta genial\")   \n",
    "    print('Python es lo maximo')\n",
    "    \n",
    "def repetir_funciones():\n",
    "    imprime_Cosas()\n",
    "    imprime_Cosas()\n",
    "    \n",
    "repetir_funciones()"
   ]
  },
  {
   "cell_type": "markdown",
   "metadata": {},
   "source": [
    "Este programa contiene dos definiciones de funciones: imprime_Cosas y repetir_funciones. Las definiciones de las funciónes se ejecutan como otras declaraciones, pero el efecto es crear objetos de función. \n",
    "Las sentencias dentro de la función no se ejecutan hasta que se llama la función, y la definición de la función no genera ninguna salida. \n",
    "Como es de esperar, hay que crear una función antes de poder ejecutarla. En otras palabras, la definición de la función tiene que ser ejecutada antes de la primera vez que se llama."
   ]
  },
  {
   "cell_type": "markdown",
   "metadata": {},
   "source": [
    "**Ejercicio 1**: Movamos la última línea de este programa a la parte superior, para que la llamada de la función aparezca antes de las definiciones. Veamos que pasa!!"
   ]
  },
  {
   "cell_type": "code",
   "execution_count": null,
   "metadata": {},
   "outputs": [],
   "source": [
    "repetir_funciones()\n",
    "\n",
    "def imprime_Cosas():\n",
    "    print(\"La clase esta genial\")   \n",
    "    print('Python es lo maximo')\n",
    "    \n",
    "def repetir_funciones():\n",
    "    imprime_Cosas()\n",
    "    imprime_Cosas()"
   ]
  },
  {
   "cell_type": "markdown",
   "metadata": {},
   "source": [
    "**Ejercicio 2**: Movamos la llamada de la función de nuevo a la parte inferior y luego movamos la definición de imprime_Cosas después de la definion repetir_funciones. Miremos que pasa!!"
   ]
  },
  {
   "cell_type": "code",
   "execution_count": null,
   "metadata": {},
   "outputs": [],
   "source": [
    "def repetir_funciones():\n",
    "    imprime_Cosas()\n",
    "    imprime_Cosas()\n",
    "    \n",
    "def imprime_Cosas():\n",
    "    print(\"La clase esta genial\")   \n",
    "    print('Python es lo maximo')\n",
    "    \n",
    "repetir_funciones()"
   ]
  },
  {
   "cell_type": "markdown",
   "metadata": {},
   "source": [
    "# Flujo de ejecución\n",
    "\n",
    "Para asegurarse de que una función está definida antes de su primer uso, hay que conocer el orden en el que se ejecutan las declaraciones, lo que se denomina flujo de ejecución. \n",
    "\n",
    "\n",
    "La ejecución siempre comienza en la primera sentencia del programa. Las sentencias se ejecutan una a una, en orden de arriba a abajo. Las definiciones de la función no alteran el flujo de ejecución del programa, pero recuerda que las sentencias dentro de la función no se ejecutan hasta que la función es llamada.Una llamada a la función es como un desvío en el flujo de ejecución.\n",
    "\n",
    "En lugar de ir a la siguiente declaración, el flujo salta al cuerpo de la función, ejecuta todas las declaraciones allí, y luego vuelve a retomar donde lo dejó. Eso suena bastante simple, hasta que recuerdas que una función puede llamar a otra. Mientras que en medio de una función, el programa podría tener que ejecutar las declaraciones en otra función. Pero mientras ejecuta esa nueva función, el programa podría tener que ejecutar otra función.\n",
    "\n",
    "\n",
    "Afortunadamente, Python es bueno para llevar la cuenta de dónde está, así que cada vez que una función se completa, el programa continúa donde lo dejó en la función que la llamó. Cuando lees un programa, no siempre quieres leer de arriba a abajo. A veces tiene más sentido si sigues el flujo de la ejecución. "
   ]
  },
  {
   "cell_type": "markdown",
   "metadata": {},
   "source": [
    "# Argumentos y parámetros\n",
    "\n",
    "Al definir una función los valores los cuales se reciben se denominan parámetros, pero durante la llamada los valores que se envían se denominan argumentos."
   ]
  },
  {
   "cell_type": "markdown",
   "metadata": {},
   "source": [
    "# Por posición\n",
    "\n",
    "Cuando enviá argumentos a una función, estos se reciben por orden en los parámetros definidos. Se dice por tanto que son argumentos por posición:"
   ]
  },
  {
   "cell_type": "code",
   "execution_count": null,
   "metadata": {},
   "outputs": [],
   "source": [
    "def suma(a, b):\n",
    "    return a + b\n",
    "\n",
    "suma(30, 10)"
   ]
  },
  {
   "cell_type": "markdown",
   "metadata": {},
   "source": [
    "En el ejemplo anterior el argumento 30 es la posición 0 por consiguiente es el parámetro de la función a, seguidamente el argumento 10 es la posición 1 por consiguiente es el parámetro de la función b."
   ]
  },
  {
   "cell_type": "markdown",
   "metadata": {},
   "source": [
    "# Por nombre\n",
    "\n",
    "Sin embargo es posible evadir el orden de los parámetros si indica durante la llamada que valor tiene cada parámetro a partir de su nombre:"
   ]
  },
  {
   "cell_type": "code",
   "execution_count": null,
   "metadata": {},
   "outputs": [],
   "source": [
    "def suma(a, b):\n",
    "     return a + b\n",
    "\n",
    "b=30\n",
    "a=10\n",
    "\n",
    "suma(a, b)"
   ]
  },
  {
   "cell_type": "markdown",
   "metadata": {},
   "source": [
    "# Sentencia pass\n",
    "\n",
    "Es una operación nula — cuando es ejecutada, nada sucede. Eso es útil como un contenedor cuando una sentencia es requerida sintácticamente, pero no necesita código que ser ejecutado, por ejemplo:"
   ]
  },
  {
   "cell_type": "code",
   "execution_count": null,
   "metadata": {},
   "outputs": [],
   "source": [
    "# una función que no hace nada (aun)\n",
    "def consultar_nombre_genero(letra_genero): pass\n",
    "\n",
    "type(consultar_nombre_genero)\n",
    "\n",
    "consultar_nombre_genero(\"M\")"
   ]
  },
  {
   "cell_type": "markdown",
   "metadata": {},
   "source": [
    "# Sentencia return\n",
    "\n",
    "Las funciones pueden comunicarse con el exterior de las mismas, al proceso principal del programa usando la sentencia return. El proceso de comunicación con el exterior se hace devolviendo valores. A continuación, un ejemplo de función usando return:"
   ]
  },
  {
   "cell_type": "code",
   "execution_count": null,
   "metadata": {},
   "outputs": [],
   "source": [
    "def otra_suma(numero1,numero2):\n",
    "    print(numero1 + numero2)\n",
    "    print(\"\\n\")\n",
    "    \n",
    "resultado = otra_suma(5,6)\n",
    "print(resultado)"
   ]
  },
  {
   "cell_type": "code",
   "execution_count": null,
   "metadata": {},
   "outputs": [],
   "source": [
    "def otra_suma(numero1,numero2):\n",
    "    print(numero1 + numero2)\n",
    "    print(\"\\n\")\n",
    "    return numero1 + numero2\n",
    "    \n",
    "resultado = otra_suma(5,6) \n",
    "print(resultado)"
   ]
  },
  {
   "cell_type": "markdown",
   "metadata": {},
   "source": [
    "# Sobre los parámetros\n",
    "\n",
    "Un parámetro es un valor que la función espera recibir cuando sea llamada (invocada), a fin de ejecutar acciones en base al mismo. Una función puede esperar uno o más parámetros (que irán separados por una coma) o ninguno."
   ]
  },
  {
   "cell_type": "code",
   "execution_count": null,
   "metadata": {},
   "outputs": [],
   "source": [
    "def mi_funcion(nombre, apellido): \n",
    "    # algoritmo"
   ]
  },
  {
   "cell_type": "markdown",
   "metadata": {},
   "source": [
    "Los parámetros, se indican entre los paréntesis, a modo de variables, a fin de poder utilizarlos como tales, dentro de la misma función.\n",
    "\n",
    "Los parámetros que una función espera, serán utilizados por ésta, dentro de su algoritmo, a modo de variables de ámbito local. Es decir, que los parámetros serán variables locales, a las cuáles solo la función podrá acceder:"
   ]
  },
  {
   "cell_type": "code",
   "execution_count": 42,
   "metadata": {},
   "outputs": [
    {
     "name": "stdout",
     "output_type": "stream",
     "text": [
      "('David', 'Alvarez')\n"
     ]
    }
   ],
   "source": [
    "def mi_funcion(nombre, apellido): \n",
    "    nombre_completo = nombre, apellido \n",
    "    print(nombre_completo)\n",
    "\n",
    "mi_funcion('David','Alvarez')"
   ]
  },
  {
   "cell_type": "markdown",
   "metadata": {},
   "source": [
    "Si quisiéramos acceder a esas variables locales, fuera de la función, obtendríamos un error:"
   ]
  },
  {
   "cell_type": "code",
   "execution_count": null,
   "metadata": {},
   "outputs": [],
   "source": [
    "def mi_funcion(nombre, apellido): \n",
    "    nombre_completo = nombre, apellido \n",
    "    print(nombre_completo)\n",
    "\n",
    "# Retornará el error: NameError: name 'nombre' is not defined\n",
    "print(nombre)"
   ]
  },
  {
   "cell_type": "markdown",
   "metadata": {},
   "source": [
    "Al llamar a una función, siempre se le deben pasar sus argumentos en el mismo orden en el que los espera. Pero esto puede evitarse, haciendo uso del paso de argumentos como keywords (ver más abajo: \"Keywords como parámetros\")."
   ]
  },
  {
   "cell_type": "markdown",
   "metadata": {},
   "source": [
    "# Parámetros por omisión\n",
    "\n",
    "En Python, también es posible, asignar valores por defecto a los parámetros de las funciones. Esto significa, que la función podrá ser llamada con menos argumentos de los que espera:"
   ]
  },
  {
   "cell_type": "code",
   "execution_count": 47,
   "metadata": {},
   "outputs": [
    {
     "name": "stdout",
     "output_type": "stream",
     "text": [
      "Hola Pepe Grillo\n"
     ]
    }
   ],
   "source": [
    "def saludar(nombre, mensaje='Hola'): \n",
    "    print(mensaje, nombre)\n",
    "\n",
    "saludar('Pepe Grillo') # Imprime: Hola Pepe Grillo"
   ]
  },
  {
   "cell_type": "markdown",
   "metadata": {},
   "source": [
    "# Keywords como parámetros\n",
    "En Python, también es posible llamar a una función, pasándole los argumentos esperados, como pares de claves=valor:"
   ]
  },
  {
   "cell_type": "code",
   "execution_count": 46,
   "metadata": {},
   "outputs": [
    {
     "name": "stdout",
     "output_type": "stream",
     "text": [
      "Buen día Juancho\n"
     ]
    }
   ],
   "source": [
    "def saludar(nombre, mensaje='Hola'): \n",
    "    print(mensaje, nombre)\n",
    "\n",
    "saludar(mensaje=\"Buen día\", nombre=\"Juancho\")"
   ]
  }
 ],
 "metadata": {
  "kernelspec": {
   "display_name": "Python 3",
   "language": "python",
   "name": "python3"
  },
  "language_info": {
   "codemirror_mode": {
    "name": "ipython",
    "version": 3
   },
   "file_extension": ".py",
   "mimetype": "text/x-python",
   "name": "python",
   "nbconvert_exporter": "python",
   "pygments_lexer": "ipython3",
   "version": "3.6.8"
  }
 },
 "nbformat": 4,
 "nbformat_minor": 2
}
